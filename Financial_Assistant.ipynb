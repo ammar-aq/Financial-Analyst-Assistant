{
  "nbformat": 4,
  "nbformat_minor": 0,
  "metadata": {
    "colab": {
      "provenance": [],
      "gpuType": "T4",
      "authorship_tag": "ABX9TyM2lC5rCTzLj4KcCCgTQnw7",
      "include_colab_link": true
    },
    "kernelspec": {
      "name": "python3",
      "display_name": "Python 3"
    },
    "language_info": {
      "name": "python"
    },
    "accelerator": "GPU"
  },
  "cells": [
    {
      "cell_type": "markdown",
      "metadata": {
        "id": "view-in-github",
        "colab_type": "text"
      },
      "source": [
        "<a href=\"https://colab.research.google.com/github/ammar-aq/Financial-Analyst-Assistant/blob/main/Financial_Assistant.ipynb\" target=\"_parent\"><img src=\"https://colab.research.google.com/assets/colab-badge.svg\" alt=\"Open In Colab\"/></a>"
      ]
    },
    {
      "cell_type": "code",
      "source": [
        "!pip install --upgrade openai"
      ],
      "metadata": {
        "colab": {
          "base_uri": "https://localhost:8080/"
        },
        "id": "qf4gCrsDzZpx",
        "outputId": "9cebc227-248f-4c9a-d0c9-31a36eda66e6"
      },
      "execution_count": 3,
      "outputs": [
        {
          "output_type": "stream",
          "name": "stdout",
          "text": [
            "Requirement already satisfied: openai in /usr/local/lib/python3.10/dist-packages (1.6.1)\n",
            "Requirement already satisfied: anyio<5,>=3.5.0 in /usr/local/lib/python3.10/dist-packages (from openai) (3.7.1)\n",
            "Requirement already satisfied: distro<2,>=1.7.0 in /usr/lib/python3/dist-packages (from openai) (1.7.0)\n",
            "Requirement already satisfied: httpx<1,>=0.23.0 in /usr/local/lib/python3.10/dist-packages (from openai) (0.26.0)\n",
            "Requirement already satisfied: pydantic<3,>=1.9.0 in /usr/local/lib/python3.10/dist-packages (from openai) (1.10.13)\n",
            "Requirement already satisfied: sniffio in /usr/local/lib/python3.10/dist-packages (from openai) (1.3.0)\n",
            "Requirement already satisfied: tqdm>4 in /usr/local/lib/python3.10/dist-packages (from openai) (4.66.1)\n",
            "Requirement already satisfied: typing-extensions<5,>=4.7 in /usr/local/lib/python3.10/dist-packages (from openai) (4.9.0)\n",
            "Requirement already satisfied: idna>=2.8 in /usr/local/lib/python3.10/dist-packages (from anyio<5,>=3.5.0->openai) (3.6)\n",
            "Requirement already satisfied: exceptiongroup in /usr/local/lib/python3.10/dist-packages (from anyio<5,>=3.5.0->openai) (1.2.0)\n",
            "Requirement already satisfied: certifi in /usr/local/lib/python3.10/dist-packages (from httpx<1,>=0.23.0->openai) (2023.11.17)\n",
            "Requirement already satisfied: httpcore==1.* in /usr/local/lib/python3.10/dist-packages (from httpx<1,>=0.23.0->openai) (1.0.2)\n",
            "Requirement already satisfied: h11<0.15,>=0.13 in /usr/local/lib/python3.10/dist-packages (from httpcore==1.*->httpx<1,>=0.23.0->openai) (0.14.0)\n"
          ]
        }
      ]
    },
    {
      "cell_type": "code",
      "source": [
        "\n",
        "import os\n",
        "import json\n",
        "import requests\n",
        "from openai import OpenAI\n",
        "import time\n",
        "from google.colab import userdata\n",
        "\n",
        "# API keys are stored in Google Colab's Secret Manager\n",
        "OPENAI_API_KEY = userdata.get('OPENAI_API_KEY')\n",
        "os.environ[\"OPENAI_API_KEY\"] = OPENAI_API_KEY\n",
        "\n",
        "FMP_API_KEY = userdata.get('FMP_API_KEY')\n",
        "os.environ[\"FMP_API_KEY\"] = FMP_API_KEY\n",
        "\n",
        "client = OpenAI()"
      ],
      "metadata": {
        "id": "3xBT7llXy_oV"
      },
      "execution_count": 4,
      "outputs": []
    },
    {
      "cell_type": "code",
      "source": [
        "# Define financial statement functions\n",
        "def get_income_statement(ticker, period, limit):\n",
        "    url = f\"https://financialmodelingprep.com/api/v3/income-statement/{ticker}?period={period}&limit={limit}&apikey={FMP_API_KEY}\"\n",
        "    response = requests.get(url)\n",
        "    return json.dumps(response.json())\n",
        "\n",
        "def get_balance_sheet(ticker, period, limit):\n",
        "    url = f\"https://financialmodelingprep.com/api/v3/balance-sheet-statement/{ticker}?period={period}&limit={limit}&apikey={FMP_API_KEY}\"\n",
        "    response = requests.get(url)\n",
        "    return json.dumps(response.json())\n",
        "\n",
        "def get_cash_flow_statement(ticker, period, limit):\n",
        "    url = f\"https://financialmodelingprep.com/api/v3/cash-flow-statement/{ticker}?period={period}&limit={limit}&apikey={FMP_API_KEY}\"\n",
        "    response = requests.get(url)\n",
        "    return json.dumps(response.json())\n",
        "\n",
        "def get_key_metrics(ticker, period, limit):\n",
        "    url = f\"https://financialmodelingprep.com/api/v3/key-metrics/{ticker}?period={period}&limit={limit}&apikey={FMP_API_KEY}\"\n",
        "    response = requests.get(url)\n",
        "    return json.dumps(response.json())\n",
        "\n",
        "def get_financial_ratios(ticker, period, limit):\n",
        "    url = f\"https://financialmodelingprep.com/api/v3/ratios/{ticker}?period={period}&limit={limit}&apikey={FMP_API_KEY}\"\n",
        "    response = requests.get(url)\n",
        "    return json.dumps(response.json())\n",
        "\n",
        "def get_financial_growth(ticker, period, limit):\n",
        "    url = f\"https://financialmodelingprep.com/api/v3/financial-growth/{ticker}?period={period}&limit={limit}&apikey={FMP_API_KEY}\"\n",
        "    response = requests.get(url)\n",
        "    return json.dumps(response.json())"
      ],
      "metadata": {
        "id": "RFMF5psWzCjz"
      },
      "execution_count": 6,
      "outputs": []
    },
    {
      "cell_type": "code",
      "execution_count": 7,
      "metadata": {
        "id": "j8CO3qOTy9or"
      },
      "outputs": [],
      "source": [
        "# Map available functions\n",
        "available_functions = {\n",
        "    \"get_income_statement\": get_income_statement,\n",
        "    \"get_balance_sheet\": get_balance_sheet,\n",
        "    \"get_cash_flow_statement\": get_cash_flow_statement,\n",
        "    \"get_key_metrics\": get_key_metrics,\n",
        "    \"get_financial_ratios\": get_financial_ratios,\n",
        "    \"get_financial_growth\": get_financial_growth\n",
        "}"
      ]
    },
    {
      "cell_type": "code",
      "source": [
        "# Define the main function\n",
        "def run_assistant(user_message):\n",
        "  # Creating an assistant with specific instructions and tools\n",
        "  assistant = client.beta.assistants.create(\n",
        "      instructions=\"Act as a financial analyst by accessing detailed financial data through the Financial Modeling Prep API. Your capabilities include analyzing key metrics, comprehensive financial statements, vital financial ratios, and tracking financial growth trends. \",\n",
        "      model=\"gpt-3.5-turbo-1106\",\n",
        "      tools=[\n",
        "              {\"type\": \"function\",\n",
        "              \"function\": {\n",
        "                  \"name\": \"get_income_statement\",\n",
        "                  \"parameters\": {\"type\": \"object\",\n",
        "                                  \"properties\": {\n",
        "                                      \"ticker\": {\"type\": \"string\"},\n",
        "                                      \"period\": {\"type\": \"string\"},\n",
        "                                      \"limit\": {\"type\": \"integer\"}\n",
        "                                    }\n",
        "                                  }\n",
        "                  }\n",
        "              },\n",
        "              {\"type\": \"function\",\n",
        "              \"function\": {\n",
        "                  \"name\": \"get_balance_sheet\",\n",
        "                  \"parameters\": {\"type\": \"object\",\n",
        "                                  \"properties\": {\n",
        "                                      \"ticker\": {\"type\": \"string\"},\n",
        "                                      \"period\": {\"type\": \"string\"},\n",
        "                                      \"limit\": {\"type\": \"integer\"}\n",
        "                                    }\n",
        "                                  }\n",
        "                  }\n",
        "              },\n",
        "              {\"type\": \"function\",\n",
        "              \"function\": {\n",
        "                  \"name\": \"get_cash_flow_statement\",\n",
        "                  \"parameters\": {\"type\": \"object\",\n",
        "                                  \"properties\": {\n",
        "                                      \"ticker\": {\"type\": \"string\"},\n",
        "                                      \"period\": {\"type\": \"string\"},\n",
        "                                      \"limit\": {\"type\": \"integer\"}\n",
        "                                    }\n",
        "                                  }\n",
        "                  }\n",
        "              },\n",
        "              {\"type\": \"function\",\n",
        "              \"function\": {\n",
        "                  \"name\": \"get_key_metrics\",\n",
        "                  \"parameters\": {\"type\": \"object\",\n",
        "                                  \"properties\": {\n",
        "                                      \"ticker\": {\"type\": \"string\"},\n",
        "                                      \"period\": {\"type\": \"string\"},\n",
        "                                      \"limit\": {\"type\": \"integer\"}\n",
        "                                    }\n",
        "                                  }\n",
        "                  }\n",
        "              },\n",
        "              {\"type\": \"function\",\n",
        "              \"function\": {\n",
        "                  \"name\": \"get_financial_ratios\",\n",
        "                  \"parameters\": {\"type\": \"object\",\n",
        "                                  \"properties\": {\n",
        "                                      \"ticker\": {\"type\": \"string\"},\n",
        "                                      \"period\": {\"type\": \"string\"},\n",
        "                                      \"limit\": {\"type\": \"integer\"}\n",
        "                                    }\n",
        "                                  }\n",
        "                  }\n",
        "              },\n",
        "              {\"type\": \"function\",\n",
        "              \"function\": {\n",
        "                  \"name\": \"get_financial_growth\",\n",
        "                  \"parameters\": {\"type\": \"object\",\n",
        "                                  \"properties\": {\n",
        "                                      \"ticker\": {\"type\": \"string\"},\n",
        "                                      \"period\": {\"type\": \"string\"},\n",
        "                                      \"limit\": {\"type\": \"integer\"}\n",
        "                                    }\n",
        "                                  }\n",
        "                  }\n",
        "              }\n",
        "              ]\n",
        "  )\n",
        "  return assistant.id"
      ],
      "metadata": {
        "id": "Ods4swij9MkL"
      },
      "execution_count": 8,
      "outputs": []
    },
    {
      "cell_type": "code",
      "source": [
        "user_messsage = \"Give me income statement for the past one year for Amazon.\"\n",
        "assistant_id = run_assistant(user_messsage)"
      ],
      "metadata": {
        "id": "gyf0-Dl4cwfn"
      },
      "execution_count": 9,
      "outputs": []
    },
    {
      "cell_type": "code",
      "source": [
        "# Creating a new thread\n",
        "thread = client.beta.threads.create()"
      ],
      "metadata": {
        "id": "_RGWSUPf-0hZ"
      },
      "execution_count": 10,
      "outputs": []
    },
    {
      "cell_type": "code",
      "source": [
        "# Adding a user message to the thread\n",
        "client.beta.threads.messages.create(\n",
        "      thread_id=thread.id,\n",
        "      role=\"user\",\n",
        "      content=user_messsage\n",
        " )"
      ],
      "metadata": {
        "colab": {
          "base_uri": "https://localhost:8080/"
        },
        "id": "rsHnOjcP_ewK",
        "outputId": "1a85cbb2-28dc-42d0-8761-ea0f20708eb9"
      },
      "execution_count": 11,
      "outputs": [
        {
          "output_type": "execute_result",
          "data": {
            "text/plain": [
              "ThreadMessage(id='msg_p33NL9REDvFC9lpDOgQ8pwxp', assistant_id=None, content=[MessageContentText(text=Text(annotations=[], value='Give me income statement for the past one year for Amazon.'), type='text')], created_at=1704711210, file_ids=[], metadata={}, object='thread.message', role='user', run_id=None, thread_id='thread_oaejh9gzBQeEQoqmc2EeN7C8')"
            ]
          },
          "metadata": {},
          "execution_count": 11
        }
      ]
    },
    {
      "cell_type": "code",
      "source": [
        "# Running the assistant on the created thread\n",
        "run = client.beta.threads.runs.create(thread_id=thread.id, assistant_id=assistant_id)"
      ],
      "metadata": {
        "id": "M3wKN4dKAHaS"
      },
      "execution_count": 12,
      "outputs": []
    },
    {
      "cell_type": "code",
      "source": [
        "dict(run)"
      ],
      "metadata": {
        "colab": {
          "base_uri": "https://localhost:8080/"
        },
        "id": "K5cmLWyDGMVb",
        "outputId": "86917a11-e560-41d0-a784-74cba5fb61bd"
      },
      "execution_count": 13,
      "outputs": [
        {
          "output_type": "execute_result",
          "data": {
            "text/plain": [
              "{'id': 'run_EnEOU5RzbyEbsXfZWBzux6Mk',\n",
              " 'assistant_id': 'asst_nSsAOaZOdeSJpIoZugc2sNs5',\n",
              " 'cancelled_at': None,\n",
              " 'completed_at': None,\n",
              " 'created_at': 1704711216,\n",
              " 'expires_at': 1704711816,\n",
              " 'failed_at': None,\n",
              " 'file_ids': [],\n",
              " 'instructions': 'Act as a financial analyst by accessing detailed financial data through the Financial Modeling Prep API. Your capabilities include analyzing key metrics, comprehensive financial statements, vital financial ratios, and tracking financial growth trends. ',\n",
              " 'last_error': None,\n",
              " 'metadata': {},\n",
              " 'model': 'gpt-3.5-turbo-1106',\n",
              " 'object': 'thread.run',\n",
              " 'required_action': None,\n",
              " 'started_at': None,\n",
              " 'status': 'queued',\n",
              " 'thread_id': 'thread_oaejh9gzBQeEQoqmc2EeN7C8',\n",
              " 'tools': [ToolAssistantToolsFunction(function=FunctionDefinition(name='get_income_statement', description=None, parameters={'type': 'object', 'properties': {'ticker': {'type': 'string'}, 'period': {'type': 'string'}, 'limit': {'type': 'integer'}}}), type='function'),\n",
              "  ToolAssistantToolsFunction(function=FunctionDefinition(name='get_balance_sheet', description=None, parameters={'type': 'object', 'properties': {'ticker': {'type': 'string'}, 'period': {'type': 'string'}, 'limit': {'type': 'integer'}}}), type='function'),\n",
              "  ToolAssistantToolsFunction(function=FunctionDefinition(name='get_cash_flow_statement', description=None, parameters={'type': 'object', 'properties': {'ticker': {'type': 'string'}, 'period': {'type': 'string'}, 'limit': {'type': 'integer'}}}), type='function'),\n",
              "  ToolAssistantToolsFunction(function=FunctionDefinition(name='get_key_metrics', description=None, parameters={'type': 'object', 'properties': {'ticker': {'type': 'string'}, 'period': {'type': 'string'}, 'limit': {'type': 'integer'}}}), type='function'),\n",
              "  ToolAssistantToolsFunction(function=FunctionDefinition(name='get_financial_ratios', description=None, parameters={'type': 'object', 'properties': {'ticker': {'type': 'string'}, 'period': {'type': 'string'}, 'limit': {'type': 'integer'}}}), type='function'),\n",
              "  ToolAssistantToolsFunction(function=FunctionDefinition(name='get_financial_growth', description=None, parameters={'type': 'object', 'properties': {'ticker': {'type': 'string'}, 'period': {'type': 'string'}, 'limit': {'type': 'integer'}}}), type='function')]}"
            ]
          },
          "metadata": {},
          "execution_count": 13
        }
      ]
    },
    {
      "cell_type": "code",
      "source": [
        "# Loop until the run completes or requires action\n",
        "while True:\n",
        "    run = client.beta.threads.runs.retrieve(thread_id=thread.id, run_id=run.id)\n",
        "\n",
        "    # Add run steps retrieval here\n",
        "    run_steps = client.beta.threads.runs.steps.list(thread_id=thread.id, run_id=run.id)\n",
        "    print(\"Run Steps:\", run_steps)\n",
        "\n",
        "    if run.status == \"requires_action\":\n",
        "        tool_calls = run.required_action.submit_tool_outputs.tool_calls\n",
        "        tool_outputs = []\n",
        "\n",
        "        for tool_call in tool_calls:\n",
        "            function_name = tool_call.function.name\n",
        "            function_args = json.loads(tool_call.function.arguments)\n",
        "\n",
        "            if function_name in available_functions:\n",
        "                function_to_call = available_functions[function_name]\n",
        "                output = function_to_call(**function_args)\n",
        "                tool_outputs.append({\n",
        "                    \"tool_call_id\": tool_call.id,\n",
        "                    \"output\": output,\n",
        "                })\n",
        "\n",
        "        # Submit tool outputs and update the run\n",
        "        client.beta.threads.runs.submit_tool_outputs(\n",
        "            thread_id=thread.id,\n",
        "            run_id=run.id,\n",
        "            tool_outputs=tool_outputs\n",
        "        )\n",
        "\n",
        "    elif run.status == \"completed\":\n",
        "        # List the messages to get the response\n",
        "        messages = client.beta.threads.messages.list(thread_id=thread.id)\n",
        "        for message in messages.data:\n",
        "            role_label = \"User\" if message.role == \"user\" else \"Assistant\"\n",
        "            message_content = message.content[0].text.value\n",
        "            print(f\"{role_label}: {message_content}\\n\")\n",
        "        break  # Exit the loop after processing the completed run\n",
        "\n",
        "    elif run.status == \"failed\":\n",
        "        print(\"Run failed.\")\n",
        "        break\n",
        "\n",
        "    elif run.status in [\"in_progress\", \"queued\"]:\n",
        "        print(f\"Run is {run.status}. Waiting...\")\n",
        "        time.sleep(5)  # Wait for 5 seconds before checking again\n",
        "\n",
        "    else:\n",
        "        print(f\"Unexpected status: {run.status}\")\n",
        "        break"
      ],
      "metadata": {
        "colab": {
          "base_uri": "https://localhost:8080/"
        },
        "id": "jGjs8siRprf5",
        "outputId": "a075bc31-0853-49c2-ae60-d022264e9807"
      },
      "execution_count": 14,
      "outputs": [
        {
          "output_type": "stream",
          "name": "stdout",
          "text": [
            "Run Steps: SyncCursorPage[RunStep](data=[RunStep(id='step_0B9TdmZ1NPoVJTsdePb3j6e9', assistant_id='asst_nSsAOaZOdeSJpIoZugc2sNs5', cancelled_at=None, completed_at=None, created_at=1704711220, expired_at=None, failed_at=None, last_error=None, metadata=None, object='thread.run.step', run_id='run_EnEOU5RzbyEbsXfZWBzux6Mk', status='in_progress', step_details=ToolCallsStepDetails(tool_calls=[FunctionToolCall(id='call_rhDj4M0TSjX5YzdZEawpfziz', function=Function(arguments='{\"ticker\":\"AMZN\",\"period\":\"annual\",\"limit\":1}', name='get_income_statement', output=None), type='function')], type='tool_calls'), thread_id='thread_oaejh9gzBQeEQoqmc2EeN7C8', type='tool_calls', expires_at=1704711816)], object='list', first_id='step_0B9TdmZ1NPoVJTsdePb3j6e9', last_id='step_0B9TdmZ1NPoVJTsdePb3j6e9', has_more=False)\n",
            "Run Steps: SyncCursorPage[RunStep](data=[RunStep(id='step_0B9TdmZ1NPoVJTsdePb3j6e9', assistant_id='asst_nSsAOaZOdeSJpIoZugc2sNs5', cancelled_at=None, completed_at=1704711224, created_at=1704711220, expired_at=None, failed_at=None, last_error=None, metadata=None, object='thread.run.step', run_id='run_EnEOU5RzbyEbsXfZWBzux6Mk', status='completed', step_details=ToolCallsStepDetails(tool_calls=[FunctionToolCall(id='call_rhDj4M0TSjX5YzdZEawpfziz', function=Function(arguments='{\"ticker\":\"AMZN\",\"period\":\"annual\",\"limit\":1}', name='get_income_statement', output='[{\"date\": \"2022-12-31\", \"symbol\": \"AMZN\", \"reportedCurrency\": \"USD\", \"cik\": \"0001018724\", \"fillingDate\": \"2023-02-03\", \"acceptedDate\": \"2023-02-02 18:27:34\", \"calendarYear\": \"2022\", \"period\": \"FY\", \"revenue\": 513983000000, \"costOfRevenue\": 288831000000, \"grossProfit\": 225152000000, \"grossProfitRatio\": 0.4380533987, \"researchAndDevelopmentExpenses\": 73213000000, \"generalAndAdministrativeExpenses\": 11891000000, \"sellingAndMarketingExpenses\": 42238000000, \"sellingGeneralAndAdministrativeExpenses\": 138428000000, \"otherExpenses\": -16806000000, \"operatingExpenses\": 229713000000, \"costAndExpenses\": 518544000000, \"interestIncome\": 989000000, \"interestExpense\": 2367000000, \"depreciationAndAmortization\": 41921000000, \"ebitda\": 54169000000, \"ebitdaratio\": 0.1053906452, \"operatingIncome\": 12248000000, \"operatingIncomeRatio\": 0.0238295819, \"totalOtherIncomeExpensesNet\": -18187000000, \"incomeBeforeTax\": -5939000000, \"incomeBeforeTaxRatio\": -0.0115548569, \"incomeTaxExpense\": 3217000000, \"netIncome\": -2722000000, \"netIncomeRatio\": -0.005295895, \"eps\": -0.27, \"epsdiluted\": -0.27, \"weightedAverageShsOut\": 10081481481, \"weightedAverageShsOutDil\": 10189000000, \"link\": \"https://www.sec.gov/Archives/edgar/data/1018724/000101872423000004/0001018724-23-000004-index.htm\", \"finalLink\": \"https://www.sec.gov/Archives/edgar/data/1018724/000101872423000004/amzn-20221231.htm\"}]'), type='function')], type='tool_calls'), thread_id='thread_oaejh9gzBQeEQoqmc2EeN7C8', type='tool_calls', expires_at=1704711816)], object='list', first_id='step_0B9TdmZ1NPoVJTsdePb3j6e9', last_id='step_0B9TdmZ1NPoVJTsdePb3j6e9', has_more=False)\n",
            "Run is queued. Waiting...\n",
            "Run Steps: SyncCursorPage[RunStep](data=[RunStep(id='step_6N8nnB3VNILtS3etM3ZVDoST', assistant_id='asst_nSsAOaZOdeSJpIoZugc2sNs5', cancelled_at=None, completed_at=None, created_at=1704711228, expired_at=None, failed_at=None, last_error=None, metadata=None, object='thread.run.step', run_id='run_EnEOU5RzbyEbsXfZWBzux6Mk', status='in_progress', step_details=MessageCreationStepDetails(message_creation=MessageCreation(message_id='msg_Pxli9jOX01ygPyxy5M8kxNPR'), type='message_creation'), thread_id='thread_oaejh9gzBQeEQoqmc2EeN7C8', type='message_creation', expires_at=1704711816), RunStep(id='step_0B9TdmZ1NPoVJTsdePb3j6e9', assistant_id='asst_nSsAOaZOdeSJpIoZugc2sNs5', cancelled_at=None, completed_at=1704711224, created_at=1704711220, expired_at=None, failed_at=None, last_error=None, metadata=None, object='thread.run.step', run_id='run_EnEOU5RzbyEbsXfZWBzux6Mk', status='completed', step_details=ToolCallsStepDetails(tool_calls=[FunctionToolCall(id='call_rhDj4M0TSjX5YzdZEawpfziz', function=Function(arguments='{\"ticker\":\"AMZN\",\"period\":\"annual\",\"limit\":1}', name='get_income_statement', output='[{\"date\": \"2022-12-31\", \"symbol\": \"AMZN\", \"reportedCurrency\": \"USD\", \"cik\": \"0001018724\", \"fillingDate\": \"2023-02-03\", \"acceptedDate\": \"2023-02-02 18:27:34\", \"calendarYear\": \"2022\", \"period\": \"FY\", \"revenue\": 513983000000, \"costOfRevenue\": 288831000000, \"grossProfit\": 225152000000, \"grossProfitRatio\": 0.4380533987, \"researchAndDevelopmentExpenses\": 73213000000, \"generalAndAdministrativeExpenses\": 11891000000, \"sellingAndMarketingExpenses\": 42238000000, \"sellingGeneralAndAdministrativeExpenses\": 138428000000, \"otherExpenses\": -16806000000, \"operatingExpenses\": 229713000000, \"costAndExpenses\": 518544000000, \"interestIncome\": 989000000, \"interestExpense\": 2367000000, \"depreciationAndAmortization\": 41921000000, \"ebitda\": 54169000000, \"ebitdaratio\": 0.1053906452, \"operatingIncome\": 12248000000, \"operatingIncomeRatio\": 0.0238295819, \"totalOtherIncomeExpensesNet\": -18187000000, \"incomeBeforeTax\": -5939000000, \"incomeBeforeTaxRatio\": -0.0115548569, \"incomeTaxExpense\": 3217000000, \"netIncome\": -2722000000, \"netIncomeRatio\": -0.005295895, \"eps\": -0.27, \"epsdiluted\": -0.27, \"weightedAverageShsOut\": 10081481481, \"weightedAverageShsOutDil\": 10189000000, \"link\": \"https://www.sec.gov/Archives/edgar/data/1018724/000101872423000004/0001018724-23-000004-index.htm\", \"finalLink\": \"https://www.sec.gov/Archives/edgar/data/1018724/000101872423000004/amzn-20221231.htm\"}]'), type='function')], type='tool_calls'), thread_id='thread_oaejh9gzBQeEQoqmc2EeN7C8', type='tool_calls', expires_at=1704711816)], object='list', first_id='step_6N8nnB3VNILtS3etM3ZVDoST', last_id='step_0B9TdmZ1NPoVJTsdePb3j6e9', has_more=False)\n",
            "Run is in_progress. Waiting...\n",
            "Run Steps: SyncCursorPage[RunStep](data=[RunStep(id='step_6N8nnB3VNILtS3etM3ZVDoST', assistant_id='asst_nSsAOaZOdeSJpIoZugc2sNs5', cancelled_at=None, completed_at=None, created_at=1704711228, expired_at=None, failed_at=None, last_error=None, metadata=None, object='thread.run.step', run_id='run_EnEOU5RzbyEbsXfZWBzux6Mk', status='in_progress', step_details=MessageCreationStepDetails(message_creation=MessageCreation(message_id='msg_Pxli9jOX01ygPyxy5M8kxNPR'), type='message_creation'), thread_id='thread_oaejh9gzBQeEQoqmc2EeN7C8', type='message_creation', expires_at=1704711816), RunStep(id='step_0B9TdmZ1NPoVJTsdePb3j6e9', assistant_id='asst_nSsAOaZOdeSJpIoZugc2sNs5', cancelled_at=None, completed_at=1704711224, created_at=1704711220, expired_at=None, failed_at=None, last_error=None, metadata=None, object='thread.run.step', run_id='run_EnEOU5RzbyEbsXfZWBzux6Mk', status='completed', step_details=ToolCallsStepDetails(tool_calls=[FunctionToolCall(id='call_rhDj4M0TSjX5YzdZEawpfziz', function=Function(arguments='{\"ticker\":\"AMZN\",\"period\":\"annual\",\"limit\":1}', name='get_income_statement', output='[{\"date\": \"2022-12-31\", \"symbol\": \"AMZN\", \"reportedCurrency\": \"USD\", \"cik\": \"0001018724\", \"fillingDate\": \"2023-02-03\", \"acceptedDate\": \"2023-02-02 18:27:34\", \"calendarYear\": \"2022\", \"period\": \"FY\", \"revenue\": 513983000000, \"costOfRevenue\": 288831000000, \"grossProfit\": 225152000000, \"grossProfitRatio\": 0.4380533987, \"researchAndDevelopmentExpenses\": 73213000000, \"generalAndAdministrativeExpenses\": 11891000000, \"sellingAndMarketingExpenses\": 42238000000, \"sellingGeneralAndAdministrativeExpenses\": 138428000000, \"otherExpenses\": -16806000000, \"operatingExpenses\": 229713000000, \"costAndExpenses\": 518544000000, \"interestIncome\": 989000000, \"interestExpense\": 2367000000, \"depreciationAndAmortization\": 41921000000, \"ebitda\": 54169000000, \"ebitdaratio\": 0.1053906452, \"operatingIncome\": 12248000000, \"operatingIncomeRatio\": 0.0238295819, \"totalOtherIncomeExpensesNet\": -18187000000, \"incomeBeforeTax\": -5939000000, \"incomeBeforeTaxRatio\": -0.0115548569, \"incomeTaxExpense\": 3217000000, \"netIncome\": -2722000000, \"netIncomeRatio\": -0.005295895, \"eps\": -0.27, \"epsdiluted\": -0.27, \"weightedAverageShsOut\": 10081481481, \"weightedAverageShsOutDil\": 10189000000, \"link\": \"https://www.sec.gov/Archives/edgar/data/1018724/000101872423000004/0001018724-23-000004-index.htm\", \"finalLink\": \"https://www.sec.gov/Archives/edgar/data/1018724/000101872423000004/amzn-20221231.htm\"}]'), type='function')], type='tool_calls'), thread_id='thread_oaejh9gzBQeEQoqmc2EeN7C8', type='tool_calls', expires_at=1704711816)], object='list', first_id='step_6N8nnB3VNILtS3etM3ZVDoST', last_id='step_0B9TdmZ1NPoVJTsdePb3j6e9', has_more=False)\n",
            "Run is in_progress. Waiting...\n",
            "Run Steps: SyncCursorPage[RunStep](data=[RunStep(id='step_6N8nnB3VNILtS3etM3ZVDoST', assistant_id='asst_nSsAOaZOdeSJpIoZugc2sNs5', cancelled_at=None, completed_at=1704711239, created_at=1704711228, expired_at=None, failed_at=None, last_error=None, metadata=None, object='thread.run.step', run_id='run_EnEOU5RzbyEbsXfZWBzux6Mk', status='completed', step_details=MessageCreationStepDetails(message_creation=MessageCreation(message_id='msg_Pxli9jOX01ygPyxy5M8kxNPR'), type='message_creation'), thread_id='thread_oaejh9gzBQeEQoqmc2EeN7C8', type='message_creation', expires_at=None), RunStep(id='step_0B9TdmZ1NPoVJTsdePb3j6e9', assistant_id='asst_nSsAOaZOdeSJpIoZugc2sNs5', cancelled_at=None, completed_at=1704711224, created_at=1704711220, expired_at=None, failed_at=None, last_error=None, metadata=None, object='thread.run.step', run_id='run_EnEOU5RzbyEbsXfZWBzux6Mk', status='completed', step_details=ToolCallsStepDetails(tool_calls=[FunctionToolCall(id='call_rhDj4M0TSjX5YzdZEawpfziz', function=Function(arguments='{\"ticker\":\"AMZN\",\"period\":\"annual\",\"limit\":1}', name='get_income_statement', output='[{\"date\": \"2022-12-31\", \"symbol\": \"AMZN\", \"reportedCurrency\": \"USD\", \"cik\": \"0001018724\", \"fillingDate\": \"2023-02-03\", \"acceptedDate\": \"2023-02-02 18:27:34\", \"calendarYear\": \"2022\", \"period\": \"FY\", \"revenue\": 513983000000, \"costOfRevenue\": 288831000000, \"grossProfit\": 225152000000, \"grossProfitRatio\": 0.4380533987, \"researchAndDevelopmentExpenses\": 73213000000, \"generalAndAdministrativeExpenses\": 11891000000, \"sellingAndMarketingExpenses\": 42238000000, \"sellingGeneralAndAdministrativeExpenses\": 138428000000, \"otherExpenses\": -16806000000, \"operatingExpenses\": 229713000000, \"costAndExpenses\": 518544000000, \"interestIncome\": 989000000, \"interestExpense\": 2367000000, \"depreciationAndAmortization\": 41921000000, \"ebitda\": 54169000000, \"ebitdaratio\": 0.1053906452, \"operatingIncome\": 12248000000, \"operatingIncomeRatio\": 0.0238295819, \"totalOtherIncomeExpensesNet\": -18187000000, \"incomeBeforeTax\": -5939000000, \"incomeBeforeTaxRatio\": -0.0115548569, \"incomeTaxExpense\": 3217000000, \"netIncome\": -2722000000, \"netIncomeRatio\": -0.005295895, \"eps\": -0.27, \"epsdiluted\": -0.27, \"weightedAverageShsOut\": 10081481481, \"weightedAverageShsOutDil\": 10189000000, \"link\": \"https://www.sec.gov/Archives/edgar/data/1018724/000101872423000004/0001018724-23-000004-index.htm\", \"finalLink\": \"https://www.sec.gov/Archives/edgar/data/1018724/000101872423000004/amzn-20221231.htm\"}]'), type='function')], type='tool_calls'), thread_id='thread_oaejh9gzBQeEQoqmc2EeN7C8', type='tool_calls', expires_at=None)], object='list', first_id='step_6N8nnB3VNILtS3etM3ZVDoST', last_id='step_0B9TdmZ1NPoVJTsdePb3j6e9', has_more=False)\n",
            "Assistant: The income statement for Amazon for the year ending on December 31, 2022, is as follows:\n",
            "\n",
            "- Revenue: $513,983,000,000\n",
            "- Cost of Revenue: $288,831,000,000\n",
            "- Gross Profit: $225,152,000,000\n",
            "- Gross Profit Ratio: 43.81%\n",
            "- Research and Development Expenses: $73,213,000,000\n",
            "- General and Administrative Expenses: $11,891,000,000\n",
            "- Selling and Marketing Expenses: $42,238,000,000\n",
            "- Operating Expenses: $229,713,000,000\n",
            "- Operating Income: $12,248,000,000\n",
            "- Income Before Tax: -$5,939,000,000\n",
            "- Net Income: -$2,722,000,000\n",
            "- Earnings Per Share (EPS): -$0.27\n",
            "- Weighted Average Shares Outstanding: 10,081,481,481\n",
            "\n",
            "You can access the full report [here](https://www.sec.gov/Archives/edgar/data/1018724/000101872423000004/amzn-20221231.htm).\n",
            "\n",
            "User: Give me income statement for the past one year for Amazon.\n",
            "\n"
          ]
        }
      ]
    }
  ]
}